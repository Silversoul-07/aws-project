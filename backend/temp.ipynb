{
 "cells": [
  {
   "cell_type": "code",
   "execution_count": 2,
   "metadata": {},
   "outputs": [],
   "source": [
    "import boto3\n",
    "import os\n",
    "\n",
    "# Initialize the Rekognition client\n",
    "rekognition = boto3.client('rekognition')\n",
    "\n",
    "# Create a collection\n",
    "def create_collection(collection_id):\n",
    "    try:\n",
    "        response = rekognition.create_collection(CollectionId=collection_id)\n",
    "        print(f\"Collection {collection_id} created. ARN: {response['CollectionArn']}\")\n",
    "    except rekognition.exceptions.ResourceAlreadyExistsException:\n",
    "        print(f\"Collection {collection_id} already exists.\")\n",
    "\n",
    "# Index a face\n",
    "def index_face(collection_id, image_path, employee_id):\n",
    "    with open(image_path, 'rb') as image:\n",
    "        response = rekognition.index_faces(\n",
    "            CollectionId=collection_id,\n",
    "            Image={'Bytes': image.read()},\n",
    "            ExternalImageId=employee_id,\n",
    "            DetectionAttributes=['ALL']\n",
    "        )\n",
    "    print(f\"Face indexed for employee {employee_id}\")\n",
    "    return response['FaceRecords'][0]['Face']['FaceId']\n",
    "\n",
    "# Recognize a face\n",
    "def recognize_face(collection_id, image_path):\n",
    "    with open(image_path, 'rb') as image:\n",
    "        response = rekognition.search_faces_by_image(\n",
    "            CollectionId=collection_id,\n",
    "            Image={'Bytes': image.read()},\n",
    "            MaxFaces=1,\n",
    "            FaceMatchThreshold=95\n",
    "        )\n",
    "    \n",
    "    if response['FaceMatches']:\n",
    "        return response['FaceMatches'][0]['Face']['ExternalImageId']\n",
    "    else:\n",
    "        return None\n"
   ]
  },
  {
   "cell_type": "code",
   "execution_count": 3,
   "metadata": {},
   "outputs": [
    {
     "name": "stdout",
     "output_type": "stream",
     "text": [
      "Collection StudentFaces created. ARN: aws:rekognition:ap-south-1:961341519735:collection/StudentFaces\n"
     ]
    }
   ],
   "source": [
    "import boto3\n",
    "import os\n",
    "\n",
    "def create_collection(collection_id):\n",
    "    try:\n",
    "        response = rekognition.create_collection(CollectionId=collection_id)\n",
    "        print(f\"Collection {collection_id} created. ARN: {response['CollectionArn']}\")\n",
    "    except rekognition.exceptions.ResourceAlreadyExistsException:\n",
    "        print(f\"Collection {collection_id} already exists.\")\n",
    "\n",
    "# Initialize the Rekognition client\n",
    "rekognition = boto3.client('rekognition')\n",
    "collection_id = \"StudentFaces\"\n",
    "create_collection(collection_id)"
   ]
  },
  {
   "cell_type": "code",
   "execution_count": null,
   "metadata": {},
   "outputs": [],
   "source": [
    "student_folder = \"student_photos\"\n",
    "for filename in os.listdir(student_folder):\n",
    "    if filename.endswith(\".jpg\") or filename.endswith(\".png\"):\n",
    "        employee_id = os.path.splitext(filename)[0]\n",
    "        image_path = os.path.join(student_folder, filename)\n",
    "        index_face(collection_id, image_path, employee_id)"
   ]
  },
  {
   "cell_type": "code",
   "execution_count": null,
   "metadata": {},
   "outputs": [],
   "source": [
    "\n",
    "\n",
    "    # Index faces (add new employees)\n",
    "    employee_folder = \"student_photos\"\n",
    "    for filename in os.listdir(employee_folder):\n",
    "        if filename.endswith(\".jpg\") or filename.endswith(\".png\"):\n",
    "            employee_id = os.path.splitext(filename)[0]\n",
    "            image_path = os.path.join(employee_folder, filename)\n",
    "            index_face(collection_id, image_path, employee_id)\n",
    "\n",
    "    # Recognize face (mark attendance)\n",
    "    attendance_photo = \"attendance_photo.jpg\"\n",
    "    recognized_employee = recognize_face(collection_id, attendance_photo)\n",
    "    \n",
    "    if recognized_employee:\n",
    "        print(f\"Attendance marked for employee: {recognized_employee}\")\n",
    "    else:\n",
    "        print(\"No matching face found.\")"
   ]
  },
  {
   "cell_type": "code",
   "execution_count": 2,
   "metadata": {},
   "outputs": [
    {
     "name": "stdout",
     "output_type": "stream",
     "text": [
      "The slot for Monday at 08:30 AM is A1\n"
     ]
    }
   ],
   "source": [
    "slot_map = {\n",
    "    \"Monday\": {\n",
    "        \"08:00 AM - 08:50 AM\": \"A1\",\n",
    "        \"09:00 AM - 09:50 AM\": [\"F1\", \"A1\"],\n",
    "        \"10:00 AM - 10:50 AM\": \"D1\",\n",
    "        \"11:00 AM - 11:50 AM\": \"TB1\",\n",
    "        \"12:00 PM - 12:50 PM\": \"TG1\",\n",
    "        \"02:00 PM - 02:50 PM\": \"A2\",\n",
    "        \"03:00 PM - 03:50 PM\": \"F2\",\n",
    "        \"04:00 PM - 04:50 PM\": \"D2\",\n",
    "        \"05:00 PM - 05:50 PM\": \"TB2\",\n",
    "        \"06:00 PM - 06:50 PM\": \"TG2\"\n",
    "    },\n",
    "    \"Tuesday\": {\n",
    "        \"08:00 AM - 08:50 AM\": \"B1\",\n",
    "        \"09:00 AM - 09:50 AM\": \"G1\",\n",
    "        \"10:00 AM - 10:50 AM\": \"E1\",\n",
    "        \"11:00 AM - 11:50 AM\": \"TC1\",\n",
    "        \"12:00 PM - 12:50 PM\": \"TAA1\",\n",
    "        \"02:00 PM - 02:50 PM\": \"B2\",\n",
    "        \"03:00 PM - 03:50 PM\": \"G2\",\n",
    "        \"04:00 PM - 04:50 PM\": \"E2\",\n",
    "        \"05:00 PM - 05:50 PM\": \"TC2\",\n",
    "        \"06:00 PM - 06:50 PM\": \"TAA2\"\n",
    "    },\n",
    "    \"Wednesday\": {\n",
    "        \"08:00 AM - 08:50 AM\": \"C1\",\n",
    "        \"09:00 AM - 09:50 AM\": \"A1\",\n",
    "        \"10:00 AM - 10:50 AM\": \"F1\",\n",
    "        \"11:00 AM - 11:50 AM\": \"V2\",\n",
    "        \"12:00 PM - 12:50 PM\": \"V2\",\n",
    "        \"02:00 PM - 02:50 PM\": \"C2\",\n",
    "        \"03:00 PM - 03:50 PM\": \"G2\",\n",
    "        \"04:00 PM - 04:50 PM\": \"F2\",\n",
    "        \"05:00 PM - 05:50 PM\": \"TD2\",\n",
    "        \"06:00 PM - 06:50 PM\": \"TBB2\"\n",
    "    },\n",
    "    \"Thursday\": {\n",
    "        \"08:00 AM - 08:50 AM\": \"D1\",\n",
    "        \"09:00 AM - 09:50 AM\": \"B1\",\n",
    "        \"10:00 AM - 10:50 AM\": \"C1\",\n",
    "        \"11:00 AM - 11:50 AM\": \"TCC1\",\n",
    "        \"12:00 PM - 12:50 PM\": \"TCC1\",\n",
    "        \"02:00 PM - 02:50 PM\": \"D2\",\n",
    "        \"03:00 PM - 03:50 PM\": \"A2\",\n",
    "        \"04:00 PM - 04:50 PM\": \"B2\",\n",
    "        \"05:00 PM - 05:50 PM\": \"TA2\",\n",
    "        \"06:00 PM - 06:50 PM\": \"TCC2\"\n",
    "    },\n",
    "    \"Friday\": {\n",
    "        \"08:00 AM - 08:50 AM\": \"E1\",\n",
    "        \"09:00 AM - 09:50 AM\": \"C1\",\n",
    "        \"10:00 AM - 10:50 AM\": \"B1\",\n",
    "        \"11:00 AM - 11:50 AM\": \"TD1\",\n",
    "        \"12:00 PM - 12:50 PM\": \"TD1\",\n",
    "        \"02:00 PM - 02:50 PM\": \"E2\",\n",
    "        \"03:00 PM - 03:50 PM\": \"D2\",\n",
    "        \"04:00 PM - 04:50 PM\": \"F2\",\n",
    "        \"05:00 PM - 05:50 PM\": \"TA2\",\n",
    "        \"06:00 PM - 06:50 PM\": \"TDD2\"\n",
    "    }\n",
    "}\n",
    "\n",
    "def find_slot(day, time):\n",
    "    if day in slot_map:\n",
    "        for slot_time, slot in slot_map[day].items():\n",
    "            start_time, end_time = slot_time.split(\" - \")\n",
    "            if start_time <= time <= end_time:\n",
    "                return slot\n",
    "    return None\n",
    "\n",
    "# Example usage\n",
    "day = \"Monday\"\n",
    "time = \"08:30 AM\"\n",
    "slot = find_slot(day, time)\n",
    "print(f\"The slot for {day} at {time} is {slot}\")"
   ]
  },
  {
   "cell_type": "code",
   "execution_count": 1,
   "metadata": {},
   "outputs": [],
   "source": [
    "import networkx"
   ]
  },
  {
   "cell_type": "code",
   "execution_count": null,
   "metadata": {},
   "outputs": [],
   "source": [
    "networkx.bfs_edges"
   ]
  }
 ],
 "metadata": {
  "kernelspec": {
   "display_name": "Python 3",
   "language": "python",
   "name": "python3"
  },
  "language_info": {
   "codemirror_mode": {
    "name": "ipython",
    "version": 3
   },
   "file_extension": ".py",
   "mimetype": "text/x-python",
   "name": "python",
   "nbconvert_exporter": "python",
   "pygments_lexer": "ipython3",
   "version": "3.10.12"
  }
 },
 "nbformat": 4,
 "nbformat_minor": 2
}
